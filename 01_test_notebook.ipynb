{
 "cells": [
  {
   "cell_type": "markdown",
   "metadata": {},
   "source": [
    "# ✅ Test Notebook: Verify Your ML Environment\n",
    "\n",
    "Welcome! This notebook runs a few basic checks to make sure your machine learning environment is set up correctly. It checks that your Python and package versions match those specified in the requirements.txt file.\n",
    "\n",
    "Just run each cell one-by-one, and keep an eye out for any assertion errors.\n",
    "\n",
    "\n",
    "### 🧠 A Quick Note About Jupyter Notebooks\n",
    "\n",
    "Jupyter notebooks are an interactive coding environment where we combine code, text, and visualizations in one document. Throughout this course, you'll use notebooks to:\n",
    "\n",
    "- Read instructions and explanations (like this one!)\n",
    "\n",
    "- Run and edit Python code\n",
    "\n",
    "- Explore data through plots and interactive visuals\n",
    "\n",
    "👉 Each section in this notebook is a **cell**. Some cells contain **text**, others contain **code**. You can click on any cell and run it by pressing Shift + Enter or clicking the ▶️ **Run** button in the toolbar."
   ]
  },
  {
   "cell_type": "markdown",
   "metadata": {},
   "source": [
    "### 🐍 Check Python Version"
   ]
  },
  {
   "cell_type": "code",
   "execution_count": null,
   "metadata": {},
   "outputs": [],
   "source": [
    "import sys\n",
    "print(\"Python version:\", sys.version)\n",
    "\n",
    "expected_major, expected_minor = 3, 11\n",
    "\n",
    "# ✅ Check major + minor version only (patch version may vary)\n",
    "major, minor = sys.version_info[:2]\n",
    "assert (major, minor) == (expected_major, expected_minor), \\\n",
    "    f\"Expected Python {expected_major}.{expected_minor}, but found {major}.{minor}.\""
   ]
  },
  {
   "cell_type": "markdown",
   "metadata": {},
   "source": [
    "### 📦 Check Package Versions (Based on requirements.txt)"
   ]
  },
  {
   "cell_type": "code",
   "execution_count": null,
   "metadata": {},
   "outputs": [],
   "source": [
    "import requests\n",
    "import re\n",
    "\n",
    "def get_required_versions_from_text(txt):\n",
    "    required_versions = {}\n",
    "    for line in txt.splitlines():\n",
    "        line = line.strip()\n",
    "        if not line or line.startswith(\"#\"):\n",
    "            continue\n",
    "        if any(op in line for op in [\"<\", \">\", \"=\", \"~\"]):\n",
    "            package = re.split(r\"[<>=~]\", line)[0]\n",
    "            if package == \"notebook\":\n",
    "                continue  # skip non-runtime dependencies\n",
    "            match = re.search(r\"\\d+\\.\\d+\", line)\n",
    "            if match:\n",
    "                required_versions[package] = match.group()\n",
    "    return required_versions\n",
    "\n",
    "# 🔗 Load requirements.txt from GitHub\n",
    "url = \"https://raw.githubusercontent.com/BridgingAISocietySummerSchools/Hands-On-Notebooks/refs/heads/main/requirements.txt\"\n",
    "response = requests.get(url)\n",
    "requirements_txt = response.text\n",
    "\n",
    "required_versions = get_required_versions_from_text(requirements_txt)"
   ]
  },
  {
   "cell_type": "code",
   "execution_count": null,
   "metadata": {},
   "outputs": [],
   "source": [
    "import importlib.metadata as metadata\n",
    "\n",
    "for pkg, required in required_versions.items():\n",
    "    version = metadata.version(pkg)\n",
    "    print(f\"{pkg}: {version}\")\n",
    "    assert version.startswith(required), f\"Expected {pkg} version to start with {required}\""
   ]
  },
  {
   "cell_type": "markdown",
   "metadata": {},
   "source": [
    "### 📈 Quick Plot Test"
   ]
  },
  {
   "cell_type": "code",
   "execution_count": null,
   "metadata": {},
   "outputs": [],
   "source": [
    "import numpy as np\n",
    "import matplotlib.pyplot as plt\n",
    "\n",
    "# Generate synthetic data\n",
    "x = np.linspace(0, 2, 100)\n",
    "y = 3 + 5 * x + np.random.randn(100)\n",
    "\n",
    "plt.plot(x, y, 'o')\n",
    "plt.title(\"Matplotlib test plot\")\n",
    "plt.xlabel(\"x\")\n",
    "plt.ylabel(\"y\")\n",
    "plt.grid(True)\n",
    "plt.show()"
   ]
  },
  {
   "cell_type": "markdown",
   "metadata": {},
   "source": [
    "### ✅ All Good!\n",
    "\n",
    "If you made it here without any error messages, your environment is ready to go! 🎉\n",
    "\n",
    "You're now ready to dive into the hands-on notebooks for regression, classification, and more. Have fun!"
   ]
  },
  {
   "cell_type": "code",
   "execution_count": null,
   "metadata": {},
   "outputs": [],
   "source": []
  }
 ],
 "metadata": {
  "kernelspec": {
   "display_name": "SDV-ml-workshop",
   "language": "python",
   "name": "python3"
  },
  "language_info": {
   "codemirror_mode": {
    "name": "ipython",
    "version": 3
   },
   "file_extension": ".py",
   "mimetype": "text/x-python",
   "name": "python",
   "nbconvert_exporter": "python",
   "pygments_lexer": "ipython3",
   "version": "3.11.13"
  }
 },
 "nbformat": 4,
 "nbformat_minor": 2
}
