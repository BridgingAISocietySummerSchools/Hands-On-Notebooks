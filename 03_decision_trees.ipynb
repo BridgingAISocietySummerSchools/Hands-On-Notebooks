{
 "cells": [
  {
   "cell_type": "markdown",
   "metadata": {},
   "source": [
    "# Machine Learning Class 2: Decision Trees & Random Forests\n",
    "\n",
    "Welcome back! In our first class, you learned how computers find patterns using linear regression and gradient descent. Today we'll explore a completely different approach that thinks more like humans do - making decisions step by step.\n",
    "\n",
    "### 🎯 What You'll Learn\n",
    "1. 🌲 **Decision Trees** - How computers make decisions like humans\n",
    "2. 🧠 **Interactive Tree Building** - Build your own decision tree\n",
    "3. 🌲🌲🌲 **Random Forests** - Why many trees are better than one\n",
    "4. ✉️ **Real Applications** - Email spam detection in action\n",
    "\n",
    "### 🌳 **The Big Idea**\n",
    "\n",
    "Linear regression tries to draw a single line through data. Decision trees take a more human approach: they ask yes/no questions like:\n",
    "- \"Is the house bigger than 1,500 sq ft?\"\n",
    "- \"Does the email contain the word 'FREE'?\"\n",
    "- \"Is the patient's temperature above 38°C?\"\n",
    "\n",
    "This method is:\n",
    "- ✅ Interpretable (you can follow every decision),\n",
    "- ❌ Assumption-free (no need to assume linearity),\n",
    "- 🔀 Flexible (works with numbers, categories, and missing data),\n",
    "- 🧠 Intuitive (mimics how we reason about choices).\n",
    "\n",
    "### 🔗 **Building on Class 1**\n",
    "- 📈 **Linear Regression**: Found the best line through data\n",
    "- 🌳 **Decision Trees**: Ask the best questions about data\n",
    "- 🤝 **Both**: Make predictions, but in very different ways\n",
    "\n",
    "Let’s explore how a tree of decisions can help a machine learn!"
   ]
  },
  {
   "cell_type": "code",
   "execution_count": null,
   "metadata": {},
   "outputs": [],
   "source": [
    "# If running on Google Colab, clone the repo (if needed),\n",
    "# move into the repo directory, and ensure it’s on the Python path.\n",
    "\n",
    "import sys, os\n",
    "\n",
    "def in_colab():\n",
    "    try: import google.colab; return True\n",
    "    except: return False\n",
    "\n",
    "if in_colab():\n",
    "    repo = \"Hands-On-Notebooks\"\n",
    "    if os.path.basename(os.getcwd()) != repo:\n",
    "        if not os.path.exists(repo):\n",
    "            !git clone https://github.com/BridgingAISocietySummerSchools/{repo}\n",
    "        %cd {repo}\n",
    "    if '.' not in sys.path:\n",
    "        sys.path.append('.')"
   ]
  },
  {
   "cell_type": "code",
   "execution_count": null,
   "metadata": {},
   "outputs": [],
   "source": [
    "# Quick Setup - Import Our Tools\n",
    "\n",
    "import numpy as np\n",
    "import pandas as pd\n",
    "from sklearn.tree import DecisionTreeClassifier\n",
    "from sklearn.ensemble import RandomForestClassifier, GradientBoostingClassifier\n",
    "from sklearn.model_selection import train_test_split\n",
    "from sklearn.metrics import accuracy_score, classification_report\n",
    "\n",
    "# Import our plotting utilities\n",
    "from plotting_utils.decision_trees import (\n",
    "    plot_pizza_preferences_3d,\n",
    "    create_interactive_tree_builder,\n",
    "    plot_decision_tree_structure,\n",
    "    plot_feature_importance_boxplots,\n",
    "    plot_depth_vs_accuracy,\n",
    "    plot_model_comparison,\n",
    "    plot_boosting_performance,\n",
    "    generate_pizza_data,\n",
    ")"
   ]
  },
  {
   "cell_type": "code",
   "execution_count": null,
   "metadata": {},
   "outputs": [],
   "source": [
    "# Set random seed for reproducible results\n",
    "np.random.seed(42)"
   ]
  },
  {
   "cell_type": "markdown",
   "metadata": {},
   "source": [
    "\n",
    "## Part 1: Decision Trees - Thinking Like Humans\n",
    "\n",
    "### 🤔 **How Do You Make Decisions?**\n",
    "\n",
    "Imagine you're deciding whether to go outside:\n",
    "1. **Is it raining?** → If YES: Stay inside ☔\n",
    "2. **If NO: Is it sunny?** → If YES: Go outside 😎\n",
    "3. **If NO: Is it too cold?** → If YES: Stay inside ❄️, If NO: Go outside 🌤️\n",
    "\n",
    "That’s basically how a decision tree works: a series of yes/no questions that lead to a final decision.\n",
    "\n",
    "### 🌳 **From Human Logic to Machine Learning**\n",
    "\n",
    "**Decision trees** are machine learning algorithms that:\n",
    "- **Ask questions** about the data (like \"Is age > 30?\")\n",
    "- **Split the data** based on answers\n",
    "- **Repeat** until they can make good predictions\n",
    "- **Create a tree structure** of decisions\n",
    "\n",
    "### 🎯 **Why Decision Trees Are Special**\n",
    "- **Interpretable**: You can see exactly how decisions are made\n",
    "- **No assumptions**: Don't assume linear relationships like regression\n",
    "- **Handle mixed data**: Numbers, categories, missing values\n",
    "- **Natural**: Mirror human decision-making processes\n"
   ]
  },
  {
   "cell_type": "markdown",
   "metadata": {},
   "source": [
    "# 🍕Let's Start Simple: Predicting if Someone Likes Pizza\n",
    "\n",
    "### Generating a Realistic Dataset\n",
    "\n",
    "Let's create a simple dataset to predict if someone likes pizza based on their age, whether they like cheese, whether they are vegeatrian, and whether they have a pet."
   ]
  },
  {
   "cell_type": "code",
   "execution_count": null,
   "metadata": {},
   "outputs": [],
   "source": [
    "# Generate the dataset\n",
    "pizza_data, feature_cols = generate_pizza_data(n_samples=300)"
   ]
  },
  {
   "cell_type": "markdown",
   "metadata": {},
   "source": [
    "This gives us a reasonably realistic dataset — perfect for learning how decision trees behave."
   ]
  },
  {
   "cell_type": "markdown",
   "metadata": {},
   "source": [
    "### 🔍 Visualizing the Dataset\n",
    "\n",
    "Let’s forget how we generated it and just look at the data.\n",
    "\n",
    "(Values: 1 = yes, 0 = no)"
   ]
  },
  {
   "cell_type": "code",
   "execution_count": null,
   "metadata": {},
   "outputs": [],
   "source": [
    "print(pizza_data[:10])"
   ]
  },
  {
   "cell_type": "markdown",
   "metadata": {},
   "source": [
    "Now let's visualize the relationships between features and preferences:"
   ]
  },
  {
   "cell_type": "code",
   "execution_count": null,
   "metadata": {},
   "outputs": [],
   "source": [
    "plot_pizza_preferences_3d(pizza_data)"
   ]
  },
  {
   "cell_type": "markdown",
   "metadata": {},
   "source": [
    "See any patterns? A decision tree will find the best questions to ask!"
   ]
  },
  {
   "cell_type": "markdown",
   "metadata": {},
   "source": [
    "### 🧪 Building Our First Decision Tree\n",
    "\n",
    "Let’s build a model to predict if someone likes pizza based on what we know:\n",
    "- 🧓 Age\n",
    "- 🧀 Likes cheese\n",
    "- 🥗 Vegetarian\n",
    "- 🐶 Has a pet\n",
    "\n",
    "We’ll use `scikit-learn` to train a Decision Tree Classifier that automatically finds the best questions to ask."
   ]
  },
  {
   "cell_type": "code",
   "execution_count": null,
   "metadata": {},
   "outputs": [],
   "source": [
    "# Prepare the data\n",
    "X = pizza_data[feature_cols]\n",
    "y = pizza_data['likes_pizza']\n",
    "\n",
    "# Create and train a decision tree\n",
    "tree = DecisionTreeClassifier(max_depth=3, random_state=42)\n",
    "tree.fit(X, y)\n",
    "\n",
    "# Make predictions\n",
    "predictions = tree.predict(X)\n",
    "accuracy = accuracy_score(y, predictions)\n",
    "\n",
    "print(\"🌳 Decision Tree Results:\")\n",
    "print(f\"   Training Accuracy: {accuracy:.1%}\")\n",
    "print(f\"   Tree Depth: {tree.get_depth()}\")\n",
    "print(f\"   Number of Leaves: {tree.get_n_leaves()}\")"
   ]
  },
  {
   "cell_type": "markdown",
   "metadata": {},
   "source": [
    "🔍 **What do these numbers mean?**\n",
    "\n",
    "- **Training Accuracy**: How well the model predicts on the data it was trained on. A high number might look good, but beware of overfitting!\n",
    "- **Tree Depth**: How many levels of questions the model asks before making a decision.\n",
    "- **Leaves**: The final decisions (like “Yes, likes pizza”) — each leaf is a possible outcome."
   ]
  },
  {
   "cell_type": "markdown",
   "metadata": {},
   "source": [
    "### 🔮 Making a Prediction\n",
    "\n",
    "Let’s use the trained tree to predict whether a 25-year-old, who:\n",
    "- 🧀 Likes cheese: ✅ Yes\n",
    "- 🥦 Vegetarian: ✅ Yes\n",
    "- 🐶 Has a pet: ✅ Yes\n",
    "- 👨‍👩‍👧‍👦 Number of siblings: 2\n",
    "- 🍄 Favourite topping: Mushroom ✅\n",
    "\n",
    "likes pizza:"
   ]
  },
  {
   "cell_type": "code",
   "execution_count": null,
   "metadata": {},
   "outputs": [],
   "source": [
    "new_data = {\n",
    "    'age': [25],\n",
    "    'likes_cheese': [1],\n",
    "    'vegetarian': [1],\n",
    "    'has_pet': [1],\n",
    "    'num_siblings': [2],\n",
    "    'topping_mushroom': [1],\n",
    "    'topping_pepperoni': [0],\n",
    "    'topping_pineapple': [0]\n",
    "}\n",
    "new_person = pd.DataFrame(new_data)\n",
    "prediction = tree.predict(new_person)[0]\n",
    "probability = tree.predict_proba(new_person)[0]\n",
    "\n",
    "print(f\"\\n🎯 Prediction for new person:\")\n",
    "print(f\"   Prediction: {'Likes Pizza! 🍕' if prediction == 1 else 'Doesn´t like pizza 😞'}\")\n",
    "print(f\"   Confidence: {max(probability):.1%}\")"
   ]
  },
  {
   "cell_type": "markdown",
   "metadata": {},
   "source": [
    "✅ This lets us peek inside the decision tree’s brain!"
   ]
  },
  {
   "cell_type": "markdown",
   "metadata": {},
   "source": [
    "### 📊 Which Features Matter?\n",
    "\n",
    "Some features have more influence than others. Let’s measure **feature importance** — this tells us which features helped the tree make its decisions."
   ]
  },
  {
   "cell_type": "code",
   "execution_count": null,
   "metadata": {},
   "outputs": [],
   "source": [
    "feature_importance = pd.DataFrame({\n",
    "    'feature': X.columns,\n",
    "    'importance': tree.feature_importances_\n",
    "}).sort_values('importance', ascending=False)\n",
    "\n",
    "print(f\"\\n📊 Most Important Features:\")\n",
    "for _, row in feature_importance.iterrows():\n",
    "    print(f\"   {row['feature']}: {row['importance']:.3f}\")\n"
   ]
  },
  {
   "cell_type": "markdown",
   "metadata": {},
   "source": [
    "You may notice something surprising: Some features you didn't expect to be important actually are, and others you thought would matter don’t show up at all. What's going on?\n",
    "\n",
    "🧠 **Why This Happens**\n",
    "\n",
    "Two key effects are at play:\n",
    "\n",
    "1. **Spurious Patterns**\n",
    "\n",
    "- With small or noisy datasets, a few random coincidences can look important.\n",
    "- Example: Maybe a few pet owners in the training data liked pizza — the tree picks up on this, even if it’s not meaningful.\n",
    "\n",
    "2. **Regularization Effects**\n",
    "\n",
    "- When we limit the tree’s depth or require a minimum number of samples to split, the tree may stop early and skip less useful features.\n",
    "- This is good! It prevents the model from overfitting, but it also means that some genuinely relevant features might not show up unless they're clearly better than others.\n",
    "\n",
    "🔍 **What You Can Do**\n",
    "\n",
    "To handle this gracefully:\n",
    "\n",
    "- 🧪 **Train/Test Split or Cross-Validation**\n",
    "\n",
    "    Always evaluate your model on unseen data — this tells you if a feature is truly helpful.\n",
    "\n",
    "- ✂️ **Use Regularization Intentionally**\n",
    "\n",
    "    Adjust max_depth or min_samples_split to prevent the tree from chasing random patterns.\n",
    "\n",
    "- 🔁 **Try Ensembles**\n",
    "\n",
    "    Random forests reduce this kind of variance by averaging over many trees (coming up next!).\n",
    "\n",
    "- 🔎 **Feature Importance ≠ Causality**\n",
    "\n",
    "    Just because a feature is used doesn't mean it causes the outcome. Be skeptical!"
   ]
  },
  {
   "cell_type": "markdown",
   "metadata": {},
   "source": [
    "### 🎮 Interactive: Build Your Own Decision Tree"
   ]
  },
  {
   "cell_type": "code",
   "execution_count": null,
   "metadata": {},
   "outputs": [],
   "source": [
    "create_interactive_tree_builder(X, y, feature_cols=feature_cols)"
   ]
  },
  {
   "cell_type": "markdown",
   "metadata": {},
   "source": [
    "Which decisions has the tree made? How does it decide if someone likes pizza? Let's visualize the decision tree and see how it splits the data based on features."
   ]
  },
  {
   "cell_type": "code",
   "execution_count": null,
   "metadata": {},
   "outputs": [],
   "source": [
    "plot_decision_tree_structure(tree, feature_cols=feature_cols)"
   ]
  },
  {
   "cell_type": "markdown",
   "metadata": {},
   "source": [
    "### ✂️ Splitting the Data: Train vs. Test\n",
    "\n",
    "Before we build even more powerful models, let’s take a step back.\n",
    "\n",
    "Until now, we’ve been evaluating models on the same data they were trained on. That’s like studying the answers to a test and then using the same test to prove you’re a genius. Not very convincing. 🤓\n",
    "\n",
    "🧪 **The Idea: Train-Test Split**\n",
    "\n",
    "To test if a model generalizes to new, unseen data, we split our dataset:\n",
    "- Training set – Used to train the model\n",
    "- Test set – Used to evaluate the model’s performance\n",
    "\n",
    "This lets us simulate how the model will behave in the real world!"
   ]
  },
  {
   "cell_type": "markdown",
   "metadata": {},
   "source": [
    "Let's first generate a slightly larger dataset to ensure we have enough data for training and testing."
   ]
  },
  {
   "cell_type": "code",
   "execution_count": null,
   "metadata": {},
   "outputs": [],
   "source": [
    "pizza_data_large, _ = generate_pizza_data(n_samples=10_000)"
   ]
  },
  {
   "cell_type": "code",
   "execution_count": null,
   "metadata": {},
   "outputs": [],
   "source": [
    "# Define features and target\n",
    "X_large = pizza_data_large[feature_cols]\n",
    "y_large = pizza_data_large['likes_pizza']\n",
    "\n",
    "# Split into 80% training, 20% test data\n",
    "X_train, X_test, y_train, y_test = train_test_split(\n",
    "    X_large, y_large, test_size=0.2, random_state=42\n",
    ")\n",
    "\n",
    "print(f\"Training size: {len(X_train)} samples\")\n",
    "print(f\"Test size:     {len(X_test)} samples\")"
   ]
  },
  {
   "cell_type": "markdown",
   "metadata": {},
   "source": [
    "🌳 **Training a Tree on the Training Set**\n",
    "\n",
    "Let’s retrain our decision tree, but now only on the training data, and then check how well it performs on the test set."
   ]
  },
  {
   "cell_type": "code",
   "execution_count": null,
   "metadata": {},
   "outputs": [],
   "source": [
    "tree = DecisionTreeClassifier(max_depth=10, min_samples_leaf=10, random_state=42)\n",
    "tree.fit(X_train, y_train)\n",
    "\n",
    "train_acc = accuracy_score(y_train, tree.predict(X_train))\n",
    "test_acc = accuracy_score(y_test, tree.predict(X_test))\n",
    "\n",
    "print(\"🌳 Decision Tree Performance:\")\n",
    "print(f\"   Training Accuracy: {train_acc:.1%}\")\n",
    "print(f\"   Test Accuracy:     {test_acc:.1%}\")"
   ]
  },
  {
   "cell_type": "markdown",
   "metadata": {},
   "source": [
    "This actually looks pretty good! The training accuracy is high, and the test accuracy is also decent. This means our model is generalizing well to new data. What if we relax some of the regularization settings?\n",
    "\n",
    "⚠️ **Why This Matters**\n",
    "\n",
    "- A very high training accuracy but low test accuracy means overfitting.\n",
    "- A model that performs well on the test set is more likely to work in the real world."
   ]
  },
  {
   "cell_type": "markdown",
   "metadata": {},
   "source": [
    "\n",
    "## Part 2: Random Forests - 🌲🌳🌲 The Power of Many Trees\n",
    "\n",
    "🤔 **Why Isn’t One Tree Enough?**\n",
    "\n",
    "Imagine asking one person for directions vs. asking 100 people:\n",
    "- One person might lead you astray (hello, overfitting 👀)\n",
    "- But 100 people voting? You’re much more likely to find the right path 🚶‍♂️➡️🗺️\n",
    "\n",
    "That’s the idea behind **Random Forests**:\n",
    "- Build lots of decision trees (often 100+)\n",
    "- Each tree sees a different slice of the data\n",
    "- They vote together on the final prediction\n",
    "- The result? A **more accurate** and **more robust** model than any single tree\n",
    "\n",
    "🧪 **The Random Forest Recipe**\n",
    "\n",
    "1. Bootstrap Sampling: Each tree trains on a random subset of the data\n",
    "2. Feature Randomness: At every split, each tree considers only a random subset of features\n",
    "3. Majority Vote: For classification, the most common answer wins\n",
    "4. Outcome: A strong, stable predictor that generalizes well and resists overfitting\n",
    "\n",
    "🎲 **Why Is It Called Random?**\n",
    "\n",
    "Because randomness is the secret sauce:\n",
    "- ✅ Random data for each tree\n",
    "- ✅ Random features for each split\n",
    "- ✅ Random mistakes, which get averaged out\n",
    "\n",
    "🎯 This randomness helps reduce overfitting and boosts performance on new data"
   ]
  },
  {
   "cell_type": "code",
   "execution_count": null,
   "metadata": {},
   "outputs": [],
   "source": [
    "# Train Random Forest\n",
    "forest = RandomForestClassifier(n_estimators=100, max_depth=5, random_state=42)\n",
    "forest.fit(X_train, y_train)\n",
    "\n",
    "forest_train_acc = accuracy_score(y_train, forest.predict(X_train))\n",
    "forest_test_acc = accuracy_score(y_test, forest.predict(X_test))\n",
    "\n",
    "print(\"🔍 Model Comparison:\")\n",
    "print(\"─────────────────────────────\")\n",
    "print(\"🌳 Decision Tree:\")\n",
    "print(f\"   ✅ Training Accuracy: {train_acc:.1%}\")\n",
    "print(f\"   🧪 Test Accuracy:     {test_acc:.1%}\")\n",
    "print(\"─────────────────────────────\")\n",
    "print(\"🌲 Random Forest:\")\n",
    "print(f\"   ✅ Training Accuracy: {forest_train_acc:.1%}\")\n",
    "print(f\"   🧪 Test Accuracy:     {forest_test_acc:.1%}\")\n",
    "print(f\"   🌿 Number of Trees:   {len(forest.estimators_)}\")\n",
    "\n",
    "# Compare Feature Importances\n",
    "tree_importance = pd.DataFrame({\n",
    "    'Feature': feature_cols,\n",
    "    'Tree Importance': tree.feature_importances_,\n",
    "    'Forest Importance': forest.feature_importances_\n",
    "}).sort_values(by='Forest Importance', ascending=False)\n",
    "\n",
    "print(\"\\n📊 Feature Importances Comparison:\")\n",
    "for _, row in tree_importance.iterrows():\n",
    "    print(f\"   {row['Feature']:<18} | Tree: {row['Tree Importance']:.3f} | Forest: {row['Forest Importance']:.3f}\")"
   ]
  },
  {
   "cell_type": "markdown",
   "metadata": {},
   "source": [
    "### 🧠 Why is the Random Forest More Powerful?\n",
    "\n",
    "A single decision tree is prone to **overfitting** — it tries to perfectly split the training data, which can make it sensitive to noise or quirks in the dataset. This often leads to high training accuracy but lower test performance.\n",
    "\n",
    "A **random forest**, on the other hand, builds many decision trees on **random subsets** of the data and features. This randomness helps:\n",
    "- 🔁 Reduce correlation between the trees  \n",
    "- 🛡️ Prevent any single feature or sample from dominating  \n",
    "\n",
    "By **averaging the predictions** of many diverse trees, the forest creates a more **stable and generalizable model**. That’s why:\n",
    "- The forest may underfit slightly on the training set  \n",
    "- But it often **performs better on unseen data** — just like we saw above!\n",
    "\n",
    "📌 **Key Insight**: Random forests trade a bit of bias for a big reduction in variance — leading to better generalization."
   ]
  },
  {
   "cell_type": "markdown",
   "metadata": {},
   "source": [
    "### 📦 Feature Importance: One Tree vs Many Trees\n",
    "\n",
    "In a single decision tree, the **feature importance** scores reflect how much each feature contributed to splitting the data. But in a **random forest**, each tree might make different decisions — especially if randomness is involved in both data and feature selection.\n",
    "\n",
    "To understand the **stability and variability** of these decisions, let’s look at the feature importances **across all trees** in the forest.\n"
   ]
  },
  {
   "cell_type": "code",
   "execution_count": null,
   "metadata": {},
   "outputs": [],
   "source": [
    "plot_feature_importance_boxplots(forest, X_test)"
   ]
  },
  {
   "cell_type": "markdown",
   "metadata": {},
   "source": [
    "### 🔍 What This Tells Us\n",
    "\n",
    "Each box shows the **distribution of importance values** for a given feature across all trees in the random forest. \n",
    "\n",
    "- 📈 Some features (like `age`) are consistently important — they show up in many trees with high influence.  \n",
    "- 🌀 Others vary more or are barely used — they may only matter in a few trees.\n",
    "\n",
    "This highlights one of the strengths of random forests: by combining diverse trees, the model captures a **broader range of signals** without relying too heavily on any single decision."
   ]
  },
  {
   "cell_type": "markdown",
   "metadata": {},
   "source": [
    "### 🔁 Back to the Tree: Why Does It Overfit?\n",
    "\n",
    "We just saw how random forests stabilize predictions by combining many shallow, varied trees. But what about a **single decision tree**?\n",
    "\n",
    "Let’s investigate how the **tree depth** — the number of decision levels — affects performance. Deeper trees can make more specific decisions, but at what cost?"
   ]
  },
  {
   "cell_type": "code",
   "execution_count": null,
   "metadata": {},
   "outputs": [],
   "source": [
    "plot_depth_vs_accuracy(X_train, X_test, y_train, y_test)"
   ]
  },
  {
   "cell_type": "markdown",
   "metadata": {},
   "source": [
    "### 📉 What We See\n",
    "\n",
    "- 🌳 As depth increases, the tree becomes better at fitting the training data — even memorizing it.  \n",
    "- 🧪 But the test accuracy suffers beyond a certain point — a clear sign of **overfitting**.\n",
    "- ⚖️ The best depth balances learning useful patterns without chasing every quirk in the data.\n",
    "\n",
    "📌 **Key Insight**: Individual trees can easily overfit — that’s why ensembles like random forests are so effective."
   ]
  },
  {
   "cell_type": "markdown",
   "metadata": {},
   "source": [
    "## 🚀 Part 3: Enter Gradient Boosting: A New Strategy\n",
    "\n",
    "We’ve seen how individual decision trees can overfit, and how random forests reduce variance by averaging many trees. But there’s another powerful idea: **Gradient Boosting**.\n",
    "\n",
    "Instead of training all trees independently (like in a forest), boosting builds them **sequentially**:\n",
    "- Each tree tries to **fix the mistakes** of the one before it.\n",
    "- The model gradually **improves**, learning from its own errors.\n",
    "- The result: a strong learner made from many weak learners. 💪\n",
    "\n",
    "Let’s compare all three approaches:\n",
    "- 🌳 A single decision tree  \n",
    "- 🌲 A random forest  \n",
    "- 🚀 A gradient boosting machine (BDT)\n",
    "\n",
    "Which one performs best on our pizza prediction task?"
   ]
  },
  {
   "cell_type": "code",
   "execution_count": null,
   "metadata": {},
   "outputs": [],
   "source": [
    "models = {\n",
    "    \"Decision Tree 🌳\": DecisionTreeClassifier(max_depth=3, random_state=42),\n",
    "    \"Random Forest 🌲\": RandomForestClassifier(max_depth=3, n_estimators=100, random_state=42),\n",
    "    \"Gradient Boosting 🚀\": GradientBoostingClassifier(n_estimators=100, learning_rate=0.1, random_state=42)\n",
    "}\n",
    "\n",
    "# Store results\n",
    "results = {}\n",
    "\n",
    "for name, model in models.items():\n",
    "    model.fit(X_train, y_train)\n",
    "    preds = model.predict(X_test)\n",
    "    acc = accuracy_score(y_test, preds)\n",
    "    results[name] = acc\n",
    "    print(f\"\\n{name} Accuracy: {acc:.1%}\")\n",
    "    print(classification_report(y_test, preds))\n",
    "\n",
    "plot_model_comparison(results)"
   ]
  },
  {
   "cell_type": "markdown",
   "metadata": {},
   "source": [
    "### 🏁 Results & Reflections\n",
    "\n",
    "All three models use decision trees at their core — but their strategies differ:\n",
    "\n",
    "- 🌳 A single tree can overfit, especially if it’s deep.\n",
    "- 🌲 A random forest is more stable and generalizes better by averaging many shallow trees.\n",
    "- 🚀 Gradient boosting (BDT) focuses on **learning from errors**, often achieving the best accuracy — especially on **structured tabular data**.\n",
    "\n",
    "📌 **Takeaway**: When accuracy matters and training time is acceptable, gradient boosting is a top choice.  \n",
    "But when speed and interpretability are more important, simpler trees or random forests still shine!"
   ]
  },
  {
   "cell_type": "markdown",
   "metadata": {},
   "source": [
    "### 🔄 Boosting Step-by-Step: How Does Performance Evolve?\n",
    "\n",
    "Gradient boosting builds the model gradually, **one tree at a time**, each trying to correct the mistakes of the previous ones.\n",
    "\n",
    "But how do the **training and testing errors change** as we add more trees?\n",
    "\n",
    "Let’s plot the error rate after each boosting round to see how the model improves — or possibly starts to overfit."
   ]
  },
  {
   "cell_type": "code",
   "execution_count": null,
   "metadata": {},
   "outputs": [],
   "source": [
    "# Calculate staged errors\n",
    "bdt = models[\"Gradient Boosting 🚀\"]\n",
    "\n",
    "plot_boosting_performance(bdt, X_train, X_test, y_train, y_test)"
   ]
  },
  {
   "cell_type": "markdown",
   "metadata": {},
   "source": [
    "### 📈 What We Learn\n",
    "\n",
    "- 🟦 The **training error** keeps dropping — the model fits the data better and better.\n",
    "- 🟥 The **testing error** improves at first, but then may level off or even rise — a sign of **overfitting** if we go too far.\n",
    "- ⚖️ The sweet spot is usually **before the last round**, where generalization is best.\n",
    "\n",
    "📌 **Tip**: You can control this with **early stopping**, which halts training when test performance no longer improves."
   ]
  },
  {
   "cell_type": "markdown",
   "metadata": {},
   "source": [
    "## 🎉 What You've Accomplished Today!\n",
    "\n",
    "In under an hour, you've explored a powerful family of machine learning algorithms built on trees — and compared their strengths head-to-head:\n",
    "\n",
    "### ✅ **Core Concepts Learned:**\n",
    "1. **Decision Trees** 🌳 – Ask questions to make predictions\n",
    "2. **Random Forests** 🌲 – Combine many trees to reduce overfitting  \n",
    "3. **Gradient Boosting** 🚀 – Learn from mistakes step-by-step\n",
    "4. **Feature Importance** 🔍 – Understand what your model really uses\n",
    "5. **Model Comparison** 📊 – Evaluate accuracy and generalization\n",
    "\n",
    "### 🎯 **Key Insights:**\n",
    "- **Trees think like humans** – breaking decisions into simple questions\n",
    "- **Forests generalize better** – by averaging many imperfect models\n",
    "- **Boosting learns iteratively** – fixing errors as it goes\n",
    "- **Overfitting is real** – but you can control it with depth and ensembling\n",
    "- **Machine learning is experimental** – you compare, tweak, and iterate\n",
    "\n",
    "### 🔗 **Connecting the Classes:**\n",
    "- **Class 1 (Linear Regression)**: Parametric and interpretable  \n",
    "- **Class 2 (Trees & Boosting)**: Flexible, powerful, still interpretable  \n",
    "- **Next Class**: Neural networks and deep learning\n",
    "\n",
    "### 🌟 **The Big Picture:**\n",
    "You now understand **two core pillars** of machine learning:\n",
    "- **Linear Models** – fast, elegant, and mathematically grounded  \n",
    "- **Tree-Based Models** – intuitive, powerful, and great for tabular data\n",
    "\n",
    "Next up: We’ll dive into **neural networks**, the engine behind modern AI. But every step you’ve taken so far gives you the right tools — and mindset — to keep climbing! 🧠🔥\n",
    "\n",
    "**Well done today!**"
   ]
  },
  {
   "cell_type": "code",
   "execution_count": null,
   "metadata": {},
   "outputs": [],
   "source": []
  }
 ],
 "metadata": {
  "kernelspec": {
   "display_name": "SDV-ml-workshop",
   "language": "python",
   "name": "python3"
  },
  "language_info": {
   "codemirror_mode": {
    "name": "ipython",
    "version": 3
   },
   "file_extension": ".py",
   "mimetype": "text/x-python",
   "name": "python",
   "nbconvert_exporter": "python",
   "pygments_lexer": "ipython3",
   "version": "3.11.13"
  }
 },
 "nbformat": 4,
 "nbformat_minor": 4
}
